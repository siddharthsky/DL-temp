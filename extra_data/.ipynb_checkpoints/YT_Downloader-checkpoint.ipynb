{
 "cells": [
  {
   "cell_type": "code",
   "execution_count": null,
   "id": "f8e0a3c5",
   "metadata": {},
   "outputs": [],
   "source": [
    "from pytube import YouTube\n",
    "\n",
    "# list of YouTube video links\n",
    "video_links = [\n",
    " 'https://www.youtube.com/watch?v=YKO7rjBZHOY',\n",
    " 'https://www.youtube.com/watch?v=1gsge2NZ-mc',\n",
    " 'https://www.youtube.com/watch?v=l-nGWbA_XfQ',\n",
    " 'https://www.youtube.com/watch?v=JqqOmre60dU',\n",
    " 'https://www.youtube.com/watch?v=BNpOXBIxj3g']\n",
    "\n",
    "# loop through the links and download each video\n",
    "for link in video_links:\n",
    "    # create a YouTube object\n",
    "    yt = YouTube(link)\n",
    "\n",
    "    # get the video stream with resolution 480p and without audio\n",
    "    stream = yt.streams.filter(res=\"480p\", only_video=True).first()\n",
    "\n",
    "    # download the video\n",
    "    stream.download()"
   ]
  }
 ],
 "metadata": {
  "kernelspec": {
   "display_name": "Python 3 (ipykernel)",
   "language": "python",
   "name": "python3"
  },
  "language_info": {
   "codemirror_mode": {
    "name": "ipython",
    "version": 3
   },
   "file_extension": ".py",
   "mimetype": "text/x-python",
   "name": "python",
   "nbconvert_exporter": "python",
   "pygments_lexer": "ipython3",
   "version": "3.9.13"
  }
 },
 "nbformat": 4,
 "nbformat_minor": 5
}
