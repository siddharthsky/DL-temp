{
 "cells": [
  {
   "cell_type": "code",
   "execution_count": 1,
   "metadata": {},
   "outputs": [],
   "source": [
    "from ultralytics import YOLO\n",
    "import pandas as pd\n",
    "import numpy as np\n",
    "import os\n",
    "\n",
    "from pytube import YouTube\n",
    "\n",
    "from requests_html import HTMLSession \n",
    "from urllib.request import urlopen\n",
    "from bs4 import BeautifulSoup as bs "
   ]
  },
  {
   "cell_type": "code",
   "execution_count": 5,
   "metadata": {},
   "outputs": [],
   "source": [
    "#df= pd.read_excel(\"NASA2.xlsx\")\n",
    "\n",
    "filepath= \"C:\\\\Users\\\\SkyLake\\\\Documents\\\\Python 2.0\\\\Proj02b\\\\NASA2.xlsx\"\n",
    "\n",
    "class UrlLoader():\n",
    "    def __init__(self):\n",
    "        print(\"init\")\n",
    "    \n",
    "    def df_creator(self):\n",
    "        df=pd.read_excel(\"C:\\\\Users\\\\SkyLake\\\\Documents\\\\Python 2.0\\\\Proj02b\\\\NASA2.xlsx\")\n",
    "        return df\n"
   ]
  },
  {
   "cell_type": "code",
   "execution_count": 6,
   "metadata": {},
   "outputs": [
    {
     "name": "stdout",
     "output_type": "stream",
     "text": [
      "init\n"
     ]
    },
    {
     "data": {
      "text/html": [
       "<div>\n",
       "<style scoped>\n",
       "    .dataframe tbody tr th:only-of-type {\n",
       "        vertical-align: middle;\n",
       "    }\n",
       "\n",
       "    .dataframe tbody tr th {\n",
       "        vertical-align: top;\n",
       "    }\n",
       "\n",
       "    .dataframe thead th {\n",
       "        text-align: right;\n",
       "    }\n",
       "</style>\n",
       "<table border=\"1\" class=\"dataframe\">\n",
       "  <thead>\n",
       "    <tr style=\"text-align: right;\">\n",
       "      <th></th>\n",
       "      <th>Links</th>\n",
       "    </tr>\n",
       "  </thead>\n",
       "  <tbody>\n",
       "    <tr>\n",
       "      <th>0</th>\n",
       "      <td>https://www.youtube.com/watch?v=gPH4rK7g3tk</td>\n",
       "    </tr>\n",
       "    <tr>\n",
       "      <th>1</th>\n",
       "      <td>https://www.youtube.com/watch?v=DIyJH2T-1rg</td>\n",
       "    </tr>\n",
       "    <tr>\n",
       "      <th>2</th>\n",
       "      <td>https://www.youtube.com/watch?v=8U75beC9whs</td>\n",
       "    </tr>\n",
       "    <tr>\n",
       "      <th>3</th>\n",
       "      <td>https://www.youtube.com/watch?v=jiFY4p6Bc0E</td>\n",
       "    </tr>\n",
       "    <tr>\n",
       "      <th>4</th>\n",
       "      <td>https://www.youtube.com/watch?v=bIfAmrybEiE</td>\n",
       "    </tr>\n",
       "    <tr>\n",
       "      <th>5</th>\n",
       "      <td>https://www.youtube.com/watch?v=kU1u7rTXYZE</td>\n",
       "    </tr>\n",
       "    <tr>\n",
       "      <th>6</th>\n",
       "      <td>https://www.youtube.com/watch?v=4E2akFLaGmk</td>\n",
       "    </tr>\n",
       "    <tr>\n",
       "      <th>7</th>\n",
       "      <td>https://www.youtube.com/watch?v=aF-L9Ha4M-A</td>\n",
       "    </tr>\n",
       "    <tr>\n",
       "      <th>8</th>\n",
       "      <td>https://www.youtube.com/watch?v=hgPhrQTbt7E</td>\n",
       "    </tr>\n",
       "    <tr>\n",
       "      <th>9</th>\n",
       "      <td>https://www.youtube.com/shorts/CZMDugg8Ff8</td>\n",
       "    </tr>\n",
       "    <tr>\n",
       "      <th>10</th>\n",
       "      <td>https://www.youtube.com/shorts/DNxmQoNJcwc</td>\n",
       "    </tr>\n",
       "    <tr>\n",
       "      <th>11</th>\n",
       "      <td>https://www.youtube.com/shorts/zZxijSdcAdw</td>\n",
       "    </tr>\n",
       "    <tr>\n",
       "      <th>12</th>\n",
       "      <td>https://www.youtube.com/shorts/YGyw0MWL0gU</td>\n",
       "    </tr>\n",
       "    <tr>\n",
       "      <th>13</th>\n",
       "      <td>https://www.youtube.com/shorts/-vV9oqfSZb0</td>\n",
       "    </tr>\n",
       "    <tr>\n",
       "      <th>14</th>\n",
       "      <td>https://www.youtube.com/shorts/S8hM9xWqdJo</td>\n",
       "    </tr>\n",
       "    <tr>\n",
       "      <th>15</th>\n",
       "      <td>https://www.youtube.com/shorts/nXFRpgJrZa8</td>\n",
       "    </tr>\n",
       "    <tr>\n",
       "      <th>16</th>\n",
       "      <td>https://www.youtube.com/shorts/Z6fTI3pO5PQ</td>\n",
       "    </tr>\n",
       "  </tbody>\n",
       "</table>\n",
       "</div>"
      ],
      "text/plain": [
       "                                          Links\n",
       "0   https://www.youtube.com/watch?v=gPH4rK7g3tk\n",
       "1   https://www.youtube.com/watch?v=DIyJH2T-1rg\n",
       "2   https://www.youtube.com/watch?v=8U75beC9whs\n",
       "3   https://www.youtube.com/watch?v=jiFY4p6Bc0E\n",
       "4   https://www.youtube.com/watch?v=bIfAmrybEiE\n",
       "5   https://www.youtube.com/watch?v=kU1u7rTXYZE\n",
       "6   https://www.youtube.com/watch?v=4E2akFLaGmk\n",
       "7   https://www.youtube.com/watch?v=aF-L9Ha4M-A\n",
       "8   https://www.youtube.com/watch?v=hgPhrQTbt7E\n",
       "9    https://www.youtube.com/shorts/CZMDugg8Ff8\n",
       "10   https://www.youtube.com/shorts/DNxmQoNJcwc\n",
       "11   https://www.youtube.com/shorts/zZxijSdcAdw\n",
       "12   https://www.youtube.com/shorts/YGyw0MWL0gU\n",
       "13   https://www.youtube.com/shorts/-vV9oqfSZb0\n",
       "14   https://www.youtube.com/shorts/S8hM9xWqdJo\n",
       "15   https://www.youtube.com/shorts/nXFRpgJrZa8\n",
       "16   https://www.youtube.com/shorts/Z6fTI3pO5PQ"
      ]
     },
     "execution_count": 6,
     "metadata": {},
     "output_type": "execute_result"
    }
   ],
   "source": [
    "h1=UrlLoader()\n",
    "h1.df_creator()"
   ]
  },
  {
   "cell_type": "code",
   "execution_count": null,
   "metadata": {},
   "outputs": [],
   "source": []
  },
  {
   "cell_type": "code",
   "execution_count": null,
   "metadata": {},
   "outputs": [],
   "source": []
  }
 ],
 "metadata": {
  "kernelspec": {
   "display_name": "proj02b",
   "language": "python",
   "name": "python3"
  },
  "language_info": {
   "codemirror_mode": {
    "name": "ipython",
    "version": 3
   },
   "file_extension": ".py",
   "mimetype": "text/x-python",
   "name": "python",
   "nbconvert_exporter": "python",
   "pygments_lexer": "ipython3",
   "version": "3.9.13"
  },
  "orig_nbformat": 4
 },
 "nbformat": 4,
 "nbformat_minor": 2
}
